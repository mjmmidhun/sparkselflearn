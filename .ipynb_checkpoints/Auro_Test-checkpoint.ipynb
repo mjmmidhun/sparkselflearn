{
 "cells": [
  {
   "cell_type": "code",
   "execution_count": 63,
   "id": "8d0d4d2c",
   "metadata": {},
   "outputs": [
    {
     "data": {
      "text/plain": [
       "'E:\\\\Spark\\\\spark-3.0.3-bin-hadoop3.2'"
      ]
     },
     "execution_count": 63,
     "metadata": {},
     "output_type": "execute_result"
    }
   ],
   "source": [
    "import findspark\n",
    "findspark.init()\n",
    "findspark.find()"
   ]
  },
  {
   "cell_type": "code",
   "execution_count": 64,
   "id": "d5a7a6be",
   "metadata": {},
   "outputs": [],
   "source": [
    "from pyspark.sql import SparkSession\n",
    "from pyspark.sql import SQLContext"
   ]
  },
  {
   "cell_type": "code",
   "execution_count": 65,
   "id": "f2f26bfa",
   "metadata": {},
   "outputs": [],
   "source": [
    "spark = SparkSession.builder.appName(\"Data by Flag\").getOrCreate()\n",
    "sqlContext=SQLContext(spark)"
   ]
  },
  {
   "cell_type": "markdown",
   "id": "bfda953f",
   "metadata": {},
   "source": [
    "#  Select all the data from the table \"Data\" where column \"Flag\" value is set to true."
   ]
  },
  {
   "cell_type": "code",
   "execution_count": 66,
   "id": "d93ed25f",
   "metadata": {},
   "outputs": [
    {
     "name": "stdout",
     "output_type": "stream",
     "text": [
      "+---+----+-----+------------+-------+\n",
      "| ID|Name| Flag|     StringA|StringB|\n",
      "+---+----+-----+------------+-------+\n",
      "|  1|John| true|replace_this|   john|\n",
      "|  2|Jane|false|replace_this|   jane|\n",
      "|  3| Bob| true|replace_this|    bob|\n",
      "+---+----+-----+------------+-------+\n",
      "\n"
     ]
    }
   ],
   "source": [
    "Data = [(1, \"John\", True,\"replace_this\",\"john\"), (2, \"Jane\", False, \"replace_this\",\"jane\"), (3, \"Bob\", True, \"replace_this\",\"bob\")]\n",
    "Data_df = spark.createDataFrame(Data, [\"ID\", \"Name\", \"Flag\",'StringA','StringB'])\n",
    "Data_df.createOrReplaceTempView(\"Data\")\n",
    "Data_df.show()\n"
   ]
  },
  {
   "cell_type": "code",
   "execution_count": 67,
   "id": "26be0e71",
   "metadata": {},
   "outputs": [
    {
     "name": "stdout",
     "output_type": "stream",
     "text": [
      "+---+----+----+------------+-------+\n",
      "| ID|Name|Flag|     StringA|StringB|\n",
      "+---+----+----+------------+-------+\n",
      "|  1|John|true|replace_this|   john|\n",
      "|  3| Bob|true|replace_this|    bob|\n",
      "+---+----+----+------------+-------+\n",
      "\n"
     ]
    }
   ],
   "source": [
    "df_selected = sqlContext.sql(\"select * from Data where Flag = True\")\n",
    "df_selected.show()"
   ]
  },
  {
   "cell_type": "markdown",
   "id": "a29f1302",
   "metadata": {},
   "source": [
    "## catch exceptions"
   ]
  },
  {
   "cell_type": "code",
   "execution_count": 76,
   "id": "2c8b98a5",
   "metadata": {},
   "outputs": [],
   "source": [
    "def select_data_by_flag(spark, Data):\n",
    "    try:\n",
    "        Data_df = spark.read.table(Data)\n",
    "        df_selected = data_df.filter(data_df.Flag == True)\n",
    "        return df_selected\n",
    "    except Exception as e:\n",
    "        print(\"Error:\", e)\n",
    "        return None"
   ]
  },
  {
   "cell_type": "markdown",
   "id": "4fe2939f",
   "metadata": {},
   "source": [
    "# Export it to a local file \"exported.dat\"."
   ]
  },
  {
   "cell_type": "code",
   "execution_count": 69,
   "id": "b23e268e",
   "metadata": {},
   "outputs": [],
   "source": [
    "import pandas as pd"
   ]
  },
  {
   "cell_type": "code",
   "execution_count": 70,
   "id": "058c3337",
   "metadata": {},
   "outputs": [],
   "source": [
    "pandas_df=df_selected.toPandas()"
   ]
  },
  {
   "cell_type": "code",
   "execution_count": 71,
   "id": "9260132a",
   "metadata": {},
   "outputs": [],
   "source": [
    "pandas_df.to_csv('export.dat', mode=\"w\")"
   ]
  },
  {
   "cell_type": "code",
   "execution_count": 72,
   "id": "2d46bcaf",
   "metadata": {},
   "outputs": [],
   "source": [
    "df = pd.read_csv('export.dat')"
   ]
  },
  {
   "cell_type": "markdown",
   "id": "710d5295",
   "metadata": {},
   "source": [
    "## Transform data stored in a local file, set the value of the column \"StringA\" to the uppercase value of the \"StringB\" with an appended suffix \"_\". Save to a local file \"transformed.dat\""
   ]
  },
  {
   "cell_type": "code",
   "execution_count": 73,
   "id": "699e91f8",
   "metadata": {},
   "outputs": [],
   "source": [
    "df['StringA'] = df['StringB'].str.upper() + '_'"
   ]
  },
  {
   "cell_type": "code",
   "execution_count": 74,
   "id": "f9c88fa6",
   "metadata": {},
   "outputs": [
    {
     "data": {
      "text/html": [
       "<div>\n",
       "<style scoped>\n",
       "    .dataframe tbody tr th:only-of-type {\n",
       "        vertical-align: middle;\n",
       "    }\n",
       "\n",
       "    .dataframe tbody tr th {\n",
       "        vertical-align: top;\n",
       "    }\n",
       "\n",
       "    .dataframe thead th {\n",
       "        text-align: right;\n",
       "    }\n",
       "</style>\n",
       "<table border=\"1\" class=\"dataframe\">\n",
       "  <thead>\n",
       "    <tr style=\"text-align: right;\">\n",
       "      <th></th>\n",
       "      <th>Unnamed: 0</th>\n",
       "      <th>ID</th>\n",
       "      <th>Name</th>\n",
       "      <th>Flag</th>\n",
       "      <th>StringA</th>\n",
       "      <th>StringB</th>\n",
       "    </tr>\n",
       "  </thead>\n",
       "  <tbody>\n",
       "    <tr>\n",
       "      <th>0</th>\n",
       "      <td>0</td>\n",
       "      <td>1</td>\n",
       "      <td>John</td>\n",
       "      <td>True</td>\n",
       "      <td>JOHN_</td>\n",
       "      <td>john</td>\n",
       "    </tr>\n",
       "    <tr>\n",
       "      <th>1</th>\n",
       "      <td>1</td>\n",
       "      <td>3</td>\n",
       "      <td>Bob</td>\n",
       "      <td>True</td>\n",
       "      <td>BOB_</td>\n",
       "      <td>bob</td>\n",
       "    </tr>\n",
       "  </tbody>\n",
       "</table>\n",
       "</div>"
      ],
      "text/plain": [
       "   Unnamed: 0  ID  Name  Flag StringA StringB\n",
       "0           0   1  John  True   JOHN_    john\n",
       "1           1   3   Bob  True    BOB_     bob"
      ]
     },
     "execution_count": 74,
     "metadata": {},
     "output_type": "execute_result"
    }
   ],
   "source": [
    "df"
   ]
  },
  {
   "cell_type": "code",
   "execution_count": 75,
   "id": "c876f816",
   "metadata": {},
   "outputs": [],
   "source": [
    "df.to_csv('transformed.dat', mode=\"w\")"
   ]
  },
  {
   "cell_type": "code",
   "execution_count": null,
   "id": "300587c0",
   "metadata": {},
   "outputs": [],
   "source": []
  }
 ],
 "metadata": {
  "kernelspec": {
   "display_name": "Python 3",
   "language": "python",
   "name": "python3"
  },
  "language_info": {
   "codemirror_mode": {
    "name": "ipython",
    "version": 3
   },
   "file_extension": ".py",
   "mimetype": "text/x-python",
   "name": "python",
   "nbconvert_exporter": "python",
   "pygments_lexer": "ipython3",
   "version": "3.8.8"
  }
 },
 "nbformat": 4,
 "nbformat_minor": 5
}
