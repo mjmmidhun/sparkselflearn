{
 "cells": [
  {
   "cell_type": "code",
   "execution_count": 2,
   "id": "102206cb",
   "metadata": {},
   "outputs": [
    {
     "data": {
      "text/plain": [
       "'E:\\\\Spark\\\\spark-3.0.3-bin-hadoop3.2'"
      ]
     },
     "execution_count": 2,
     "metadata": {},
     "output_type": "execute_result"
    }
   ],
   "source": [
    "\n",
    "import findspark\n",
    "findspark.init()\n",
    "findspark.find()"
   ]
  },
  {
   "cell_type": "code",
   "execution_count": 3,
   "id": "723307d7",
   "metadata": {},
   "outputs": [],
   "source": [
    "from pyspark.sql import SparkSession"
   ]
  },
  {
   "cell_type": "code",
   "execution_count": 4,
   "id": "84683b89",
   "metadata": {},
   "outputs": [],
   "source": [
    "spark = SparkSession.builder.appName('sparkinjupyter').getOrCreate()"
   ]
  },
  {
   "cell_type": "code",
   "execution_count": 10,
   "id": "d29fe5b8",
   "metadata": {},
   "outputs": [
    {
     "name": "stdout",
     "output_type": "stream",
     "text": [
      "+---+---+---+---+\n",
      "|  x|  y|  z|  m|\n",
      "+---+---+---+---+\n",
      "| bn|  2|221|  4|\n",
      "| mb|  3|330|  9|\n",
      "+---+---+---+---+\n",
      "\n"
     ]
    }
   ],
   "source": [
    "df = spark.createDataFrame([('bn', 2, 221), ('mb', 3, 330)], ['x', 'y', 'z'])\n",
    "df = df.withColumn('m', df['y'] * (df['y']))\n",
    "df.show()"
   ]
  },
  {
   "cell_type": "code",
   "execution_count": 8,
   "id": "383acf56",
   "metadata": {},
   "outputs": [
    {
     "name": "stdout",
     "output_type": "stream",
     "text": [
      "+--------+-----------+\n",
      "|language|users_count|\n",
      "+--------+-----------+\n",
      "|    Java|      20000|\n",
      "|  Python|     100000|\n",
      "|   Scala|       3000|\n",
      "+--------+-----------+\n",
      "\n"
     ]
    }
   ],
   "source": [
    "data = [(\"Java\", \"20000\"), (\"Python\", \"100000\"), (\"Scala\", \"3000\")]\n",
    "columns=[\"language\",\"users_count\"]\n",
    "df = spark.createDataFrame(data).toDF(*columns)\n",
    "df.show()"
   ]
  },
  {
   "cell_type": "code",
   "execution_count": 7,
   "id": "a423a052",
   "metadata": {},
   "outputs": [
    {
     "name": "stdout",
     "output_type": "stream",
     "text": [
      "+--------+\n",
      "|language|\n",
      "+--------+\n",
      "|    Java|\n",
      "|  Python|\n",
      "|   Scala|\n",
      "+--------+\n",
      "\n"
     ]
    }
   ],
   "source": [
    "df.select('language').show()"
   ]
  },
  {
   "cell_type": "code",
   "execution_count": 9,
   "id": "c566dfc3",
   "metadata": {},
   "outputs": [
    {
     "name": "stdout",
     "output_type": "stream",
     "text": [
      "+--------+-----------+\n",
      "|language|users_count|\n",
      "+--------+-----------+\n",
      "|    Java|      20000|\n",
      "+--------+-----------+\n",
      "\n"
     ]
    }
   ],
   "source": [
    "df.filter(df.language=='Java').show()"
   ]
  },
  {
   "cell_type": "code",
   "execution_count": null,
   "id": "f56feee6",
   "metadata": {},
   "outputs": [],
   "source": []
  },
  {
   "cell_type": "code",
   "execution_count": 23,
   "id": "e3260a08",
   "metadata": {},
   "outputs": [
    {
     "ename": "TypeError",
     "evalue": "'Column' object is not callable",
     "output_type": "error",
     "traceback": [
      "\u001b[1;31m---------------------------------------------------------------------------\u001b[0m",
      "\u001b[1;31mTypeError\u001b[0m                                 Traceback (most recent call last)",
      "\u001b[1;32m<ipython-input-23-3c6a95ae9a89>\u001b[0m in \u001b[0;36m<module>\u001b[1;34m\u001b[0m\n\u001b[0;32m      1\u001b[0m \u001b[1;32mfrom\u001b[0m \u001b[0mpyspark\u001b[0m\u001b[1;33m.\u001b[0m\u001b[0msql\u001b[0m\u001b[1;33m.\u001b[0m\u001b[0mcolumn\u001b[0m \u001b[1;32mimport\u001b[0m \u001b[0mColumn\u001b[0m\u001b[1;33m\u001b[0m\u001b[1;33m\u001b[0m\u001b[0m\n\u001b[1;32m----> 2\u001b[1;33m \u001b[0mdf\u001b[0m\u001b[1;33m.\u001b[0m\u001b[0mfilter\u001b[0m\u001b[1;33m(\u001b[0m\u001b[0mdf\u001b[0m\u001b[1;33m.\u001b[0m\u001b[0mlanguage\u001b[0m\u001b[1;33m.\u001b[0m\u001b[0mstartsWith\u001b[0m\u001b[1;33m(\u001b[0m\u001b[1;34m\"Java\"\u001b[0m\u001b[1;33m)\u001b[0m\u001b[1;33m)\u001b[0m\u001b[1;33m.\u001b[0m\u001b[0mshow\u001b[0m\u001b[1;33m(\u001b[0m\u001b[1;33m)\u001b[0m\u001b[1;33m\u001b[0m\u001b[1;33m\u001b[0m\u001b[0m\n\u001b[0m",
      "\u001b[1;31mTypeError\u001b[0m: 'Column' object is not callable"
     ]
    }
   ],
   "source": [
    "from pyspark.sql.column import Column\n",
    "df.filter(df.language.startsWith(\"Java\")).show()"
   ]
  },
  {
   "cell_type": "code",
   "execution_count": 5,
   "id": "2129d55e",
   "metadata": {},
   "outputs": [],
   "source": [
    "superhero_df=spark.read\\\n",
    ".option(\"header\",\"true\")\\\n",
    ".csv(r\"C:\\Users\\ADMIN\\OneDrive\\Documents\\Spark\\Dataset\\heroes_information.csv\")"
   ]
  },
  {
   "cell_type": "code",
   "execution_count": 6,
   "id": "f3a65557",
   "metadata": {},
   "outputs": [
    {
     "name": "stdout",
     "output_type": "stream",
     "text": [
      "+---+-------------+------+---------+-----------------+----------+------+-----------------+----------+---------+------+\n",
      "|_c0|         name|Gender|Eye color|             Race|Hair color|Height|        Publisher|Skin color|Alignment|Weight|\n",
      "+---+-------------+------+---------+-----------------+----------+------+-----------------+----------+---------+------+\n",
      "|  0|       A-Bomb|  Male|   yellow|            Human|   No Hair| 203.0|    Marvel Comics|         -|     good| 441.0|\n",
      "|  1|   Abe Sapien|  Male|     blue|    Icthyo Sapien|   No Hair| 191.0|Dark Horse Comics|      blue|     good|  65.0|\n",
      "|  2|     Abin Sur|  Male|     blue|          Ungaran|   No Hair| 185.0|        DC Comics|       red|     good|  90.0|\n",
      "|  3|  Abomination|  Male|    green|Human / Radiation|   No Hair| 203.0|    Marvel Comics|         -|      bad| 441.0|\n",
      "|  4|      Abraxas|  Male|     blue|    Cosmic Entity|     Black| -99.0|    Marvel Comics|         -|      bad| -99.0|\n",
      "|  5|Absorbing Man|  Male|     blue|            Human|   No Hair| 193.0|    Marvel Comics|         -|      bad| 122.0|\n",
      "|  6|  Adam Monroe|  Male|     blue|                -|     Blond| -99.0|     NBC - Heroes|         -|     good| -99.0|\n",
      "|  7| Adam Strange|  Male|     blue|            Human|     Blond| 185.0|        DC Comics|         -|     good|  88.0|\n",
      "|  8|     Agent 13|Female|     blue|                -|     Blond| 173.0|    Marvel Comics|         -|     good|  61.0|\n",
      "|  9|    Agent Bob|  Male|    brown|            Human|     Brown| 178.0|    Marvel Comics|         -|     good|  81.0|\n",
      "+---+-------------+------+---------+-----------------+----------+------+-----------------+----------+---------+------+\n",
      "only showing top 10 rows\n",
      "\n"
     ]
    }
   ],
   "source": [
    "superhero_df.show(10)"
   ]
  },
  {
   "cell_type": "code",
   "execution_count": 7,
   "id": "c3a6a4a1",
   "metadata": {},
   "outputs": [
    {
     "name": "stdout",
     "output_type": "stream",
     "text": [
      "+--------------+-----+\n",
      "|    Skin color|count|\n",
      "+--------------+-----+\n",
      "|        orange|    1|\n",
      "|    blue-white|    1|\n",
      "|          grey|    5|\n",
      "|         green|   21|\n",
      "|        yellow|    2|\n",
      "|orange / white|    1|\n",
      "|        silver|    5|\n",
      "|        purple|    3|\n",
      "|         white|    7|\n",
      "|          gray|    1|\n",
      "|   red / black|    1|\n",
      "|          pink|    2|\n",
      "|           red|    9|\n",
      "|          gold|    3|\n",
      "|             -|  662|\n",
      "|         black|    1|\n",
      "|          blue|    9|\n",
      "+--------------+-----+\n",
      "\n"
     ]
    }
   ],
   "source": [
    "Race_df = superhero_df.groupby('Skin color').count().show()\n"
   ]
  },
  {
   "cell_type": "code",
   "execution_count": 4,
   "id": "2e2e7a61",
   "metadata": {},
   "outputs": [
    {
     "data": {
      "text/html": [
       "\n",
       "            <div>\n",
       "                <p><b>SparkSession - in-memory</b></p>\n",
       "                \n",
       "        <div>\n",
       "            <p><b>SparkContext</b></p>\n",
       "\n",
       "            <p><a href=\"http://NaviUser:4041\">Spark UI</a></p>\n",
       "\n",
       "            <dl>\n",
       "              <dt>Version</dt>\n",
       "                <dd><code>v3.0.3</code></dd>\n",
       "              <dt>Master</dt>\n",
       "                <dd><code>local[*]</code></dd>\n",
       "              <dt>AppName</dt>\n",
       "                <dd><code>sparkinjupyter</code></dd>\n",
       "            </dl>\n",
       "        </div>\n",
       "        \n",
       "            </div>\n",
       "        "
      ],
      "text/plain": [
       "<pyspark.sql.session.SparkSession at 0x1a39f5e2340>"
      ]
     },
     "execution_count": 4,
     "metadata": {},
     "output_type": "execute_result"
    }
   ],
   "source": [
    "spark"
   ]
  },
  {
   "cell_type": "code",
   "execution_count": 15,
   "id": "61828ae5",
   "metadata": {},
   "outputs": [
    {
     "name": "stdout",
     "output_type": "stream",
     "text": [
      "+---+--------------+------+---------+-------+-------------+------+-------------+----------+---------+------+\n",
      "|_c0|          name|Gender|Eye color|   Race|   Hair color|Height|    Publisher|Skin color|Alignment|Weight|\n",
      "+---+--------------+------+---------+-------+-------------+------+-------------+----------+---------+------+\n",
      "|257|      Firelord|     -|    white|      -|       Yellow| 193.0|Marvel Comics|         -|     good|  99.0|\n",
      "|137|Brother Voodoo|  Male|    brown|  Human|Brown / White| 183.0|Marvel Comics|         -|     good|  99.0|\n",
      "|489|     Nick Fury|  Male|    brown|  Human|Brown / White| 185.0|Marvel Comics|         -|     good|  99.0|\n",
      "|655|    Taskmaster|  Male|    brown|  Human|        Brown| 188.0|Marvel Comics|         -|      bad|  99.0|\n",
      "|279|   Ghost Rider|  Male|      red|  Demon|      No Hair| 188.0|Marvel Comics|         -|     good|  99.0|\n",
      "|187|   Cottonmouth|  Male|    brown|  Human|        Black| 183.0|Marvel Comics|         -|      bad|  99.0|\n",
      "|394|     Kraven II|  Male|    brown|  Human|        Black| 191.0|Marvel Comics|         -|      bad|  99.0|\n",
      "| 41|        Ardina|Female|    white|  Alien|       Orange| 193.0|Marvel Comics|      gold|     good|  98.0|\n",
      "|131|  Booster Gold|  Male|     blue|  Human|        Blond| 196.0|    DC Comics|         -|     good|  97.0|\n",
      "|111|         Blade|  Male|    brown|Vampire|        Black| 188.0|Marvel Comics|         -|     good|  97.0|\n",
      "+---+--------------+------+---------+-------+-------------+------+-------------+----------+---------+------+\n",
      "only showing top 10 rows\n",
      "\n"
     ]
    }
   ],
   "source": [
    "weight_df=superhero_df.sort((superhero_df.Weight).desc()).show(10)"
   ]
  },
  {
   "cell_type": "code",
   "execution_count": 16,
   "id": "93e47641",
   "metadata": {},
   "outputs": [
    {
     "name": "stdout",
     "output_type": "stream",
     "text": [
      "+-----------------+-----+\n",
      "|        Publisher|count|\n",
      "+-----------------+-----+\n",
      "|        Rebellion|    1|\n",
      "|    HarperCollins|    6|\n",
      "| J. R. R. Tolkien|    1|\n",
      "|        Star Trek|    6|\n",
      "|    Marvel Comics|  388|\n",
      "|        Wildstorm|    3|\n",
      "|             null|   15|\n",
      "|       South Park|    1|\n",
      "|    Sony Pictures|    2|\n",
      "|      Titan Books|    1|\n",
      "|      ABC Studios|    4|\n",
      "|             SyFy|    5|\n",
      "|     Image Comics|   14|\n",
      "|Universal Studios|    1|\n",
      "|   IDW Publishing|    4|\n",
      "|     NBC - Heroes|   19|\n",
      "|    Hanna-Barbera|    1|\n",
      "|        DC Comics|  215|\n",
      "|        Microsoft|    1|\n",
      "|    J. K. Rowling|    1|\n",
      "+-----------------+-----+\n",
      "only showing top 20 rows\n",
      "\n"
     ]
    }
   ],
   "source": [
    "superhero_df.groupby('Publisher').count().show()"
   ]
  },
  {
   "cell_type": "code",
   "execution_count": 17,
   "id": "3a5d17dd",
   "metadata": {},
   "outputs": [],
   "source": [
    "superhero_df.registerTempTable('superhero_table')"
   ]
  },
  {
   "cell_type": "code",
   "execution_count": 19,
   "id": "0436c2cc",
   "metadata": {},
   "outputs": [
    {
     "ename": "NameError",
     "evalue": "name 'sqlContext' is not defined",
     "output_type": "error",
     "traceback": [
      "\u001b[1;31m---------------------------------------------------------------------------\u001b[0m",
      "\u001b[1;31mNameError\u001b[0m                                 Traceback (most recent call last)",
      "\u001b[1;32m<ipython-input-19-903e4d48223d>\u001b[0m in \u001b[0;36m<module>\u001b[1;34m\u001b[0m\n\u001b[1;32m----> 1\u001b[1;33m \u001b[0msqlContext\u001b[0m\u001b[1;33m.\u001b[0m\u001b[0msql\u001b[0m\u001b[1;33m(\u001b[0m\u001b[1;34m'select * from superhero_table'\u001b[0m\u001b[1;33m)\u001b[0m\u001b[1;33m.\u001b[0m\u001b[0mshow\u001b[0m\u001b[1;33m(\u001b[0m\u001b[1;33m)\u001b[0m\u001b[1;33m\u001b[0m\u001b[1;33m\u001b[0m\u001b[0m\n\u001b[0m",
      "\u001b[1;31mNameError\u001b[0m: name 'sqlContext' is not defined"
     ]
    }
   ],
   "source": [
    "sqlContext.sql('select * from superhero_table').show()"
   ]
  },
  {
   "cell_type": "code",
   "execution_count": 20,
   "id": "9b5c3004",
   "metadata": {},
   "outputs": [],
   "source": [
    "from pyspark.sql import SQLContext"
   ]
  },
  {
   "cell_type": "code",
   "execution_count": 28,
   "id": "b790b181",
   "metadata": {},
   "outputs": [],
   "source": [
    "sqlContext=SQLContext(spark)"
   ]
  },
  {
   "cell_type": "code",
   "execution_count": 29,
   "id": "b468840b",
   "metadata": {},
   "outputs": [
    {
     "name": "stdout",
     "output_type": "stream",
     "text": [
      "+---+-----------------+------+---------+-----------------+----------+------+-----------------+----------+---------+------+\n",
      "|_c0|             name|Gender|Eye color|             Race|Hair color|Height|        Publisher|Skin color|Alignment|Weight|\n",
      "+---+-----------------+------+---------+-----------------+----------+------+-----------------+----------+---------+------+\n",
      "|  0|           A-Bomb|  Male|   yellow|            Human|   No Hair| 203.0|    Marvel Comics|         -|     good| 441.0|\n",
      "|  1|       Abe Sapien|  Male|     blue|    Icthyo Sapien|   No Hair| 191.0|Dark Horse Comics|      blue|     good|  65.0|\n",
      "|  2|         Abin Sur|  Male|     blue|          Ungaran|   No Hair| 185.0|        DC Comics|       red|     good|  90.0|\n",
      "|  3|      Abomination|  Male|    green|Human / Radiation|   No Hair| 203.0|    Marvel Comics|         -|      bad| 441.0|\n",
      "|  4|          Abraxas|  Male|     blue|    Cosmic Entity|     Black| -99.0|    Marvel Comics|         -|      bad| -99.0|\n",
      "|  5|    Absorbing Man|  Male|     blue|            Human|   No Hair| 193.0|    Marvel Comics|         -|      bad| 122.0|\n",
      "|  6|      Adam Monroe|  Male|     blue|                -|     Blond| -99.0|     NBC - Heroes|         -|     good| -99.0|\n",
      "|  7|     Adam Strange|  Male|     blue|            Human|     Blond| 185.0|        DC Comics|         -|     good|  88.0|\n",
      "|  8|         Agent 13|Female|     blue|                -|     Blond| 173.0|    Marvel Comics|         -|     good|  61.0|\n",
      "|  9|        Agent Bob|  Male|    brown|            Human|     Brown| 178.0|    Marvel Comics|         -|     good|  81.0|\n",
      "| 10|       Agent Zero|  Male|        -|                -|         -| 191.0|    Marvel Comics|         -|     good| 104.0|\n",
      "| 11|       Air-Walker|  Male|     blue|                -|     White| 188.0|    Marvel Comics|         -|      bad| 108.0|\n",
      "| 12|             Ajax|  Male|    brown|           Cyborg|     Black| 193.0|    Marvel Comics|         -|      bad|  90.0|\n",
      "| 13|       Alan Scott|  Male|     blue|                -|     Blond| 180.0|        DC Comics|         -|     good|  90.0|\n",
      "| 14|      Alex Mercer|  Male|        -|            Human|         -| -99.0|        Wildstorm|         -|      bad| -99.0|\n",
      "| 15|     Alex Woolsly|  Male|        -|                -|         -| -99.0|     NBC - Heroes|         -|     good| -99.0|\n",
      "| 16|Alfred Pennyworth|  Male|     blue|            Human|     Black| 178.0|        DC Comics|         -|     good|  72.0|\n",
      "| 17|            Alien|  Male|        -|  Xenomorph XX121|   No Hair| 244.0|Dark Horse Comics|     black|      bad| 169.0|\n",
      "| 18| Allan Quatermain|  Male|        -|                -|         -| -99.0|        Wildstorm|         -|     good| -99.0|\n",
      "| 19|            Amazo|  Male|      red|          Android|         -| 257.0|        DC Comics|         -|      bad| 173.0|\n",
      "+---+-----------------+------+---------+-----------------+----------+------+-----------------+----------+---------+------+\n",
      "only showing top 20 rows\n",
      "\n"
     ]
    }
   ],
   "source": [
    "sqlContext.sql(\"select * from superhero_table\").show()"
   ]
  },
  {
   "cell_type": "code",
   "execution_count": 33,
   "id": "e15f662e",
   "metadata": {},
   "outputs": [
    {
     "name": "stdout",
     "output_type": "stream",
     "text": [
      "+-----------+\n",
      "|max(Weight)|\n",
      "+-----------+\n",
      "|       99.0|\n",
      "+-----------+\n",
      "\n"
     ]
    }
   ],
   "source": [
    "sqlContext.sql(\"select max(Weight) from superhero_table\").show()"
   ]
  },
  {
   "cell_type": "code",
   "execution_count": 35,
   "id": "042d863c",
   "metadata": {},
   "outputs": [
    {
     "name": "stdout",
     "output_type": "stream",
     "text": [
      "root\n",
      " |-- _c0: string (nullable = true)\n",
      " |-- name: string (nullable = true)\n",
      " |-- Gender: string (nullable = true)\n",
      " |-- Eye color: string (nullable = true)\n",
      " |-- Race: string (nullable = true)\n",
      " |-- Hair color: string (nullable = true)\n",
      " |-- Height: string (nullable = true)\n",
      " |-- Publisher: string (nullable = true)\n",
      " |-- Skin color: string (nullable = true)\n",
      " |-- Alignment: string (nullable = true)\n",
      " |-- Weight: string (nullable = true)\n",
      "\n"
     ]
    }
   ],
   "source": [
    "superhero_df.printSchema()"
   ]
  },
  {
   "cell_type": "code",
   "execution_count": 37,
   "id": "ff7a5252",
   "metadata": {},
   "outputs": [
    {
     "name": "stdout",
     "output_type": "stream",
     "text": [
      "+-------------+-----------------+\n",
      "|         name|        Publisher|\n",
      "+-------------+-----------------+\n",
      "|       A-Bomb|    Marvel Comics|\n",
      "|   Abe Sapien|Dark Horse Comics|\n",
      "|     Abin Sur|        DC Comics|\n",
      "|  Abomination|    Marvel Comics|\n",
      "|      Abraxas|    Marvel Comics|\n",
      "|Absorbing Man|    Marvel Comics|\n",
      "|  Adam Monroe|     NBC - Heroes|\n",
      "| Adam Strange|        DC Comics|\n",
      "|     Agent 13|    Marvel Comics|\n",
      "|    Agent Bob|    Marvel Comics|\n",
      "+-------------+-----------------+\n",
      "only showing top 10 rows\n",
      "\n"
     ]
    }
   ],
   "source": [
    "superhero_df.select(['name','Publisher']).show(10)"
   ]
  },
  {
   "cell_type": "markdown",
   "id": "dca54802",
   "metadata": {},
   "source": [
    "### adding column"
   ]
  },
  {
   "cell_type": "code",
   "execution_count": 49,
   "id": "7cbf9557",
   "metadata": {},
   "outputs": [],
   "source": [
    "superheroaltered_df = superhero_df.withColumn('Weight+2',superhero_df['Weight']+20)"
   ]
  },
  {
   "cell_type": "code",
   "execution_count": 51,
   "id": "6a421093",
   "metadata": {},
   "outputs": [
    {
     "data": {
      "text/plain": [
       "719"
      ]
     },
     "execution_count": 51,
     "metadata": {},
     "output_type": "execute_result"
    }
   ],
   "source": [
    "superheroaltered_df.na.drop().count()"
   ]
  },
  {
   "cell_type": "code",
   "execution_count": 50,
   "id": "4c70d134",
   "metadata": {},
   "outputs": [
    {
     "data": {
      "text/plain": [
       "734"
      ]
     },
     "execution_count": 50,
     "metadata": {},
     "output_type": "execute_result"
    }
   ],
   "source": [
    "superheroaltered_df.count()"
   ]
  },
  {
   "cell_type": "code",
   "execution_count": 44,
   "id": "e8d1b86d",
   "metadata": {},
   "outputs": [],
   "source": [
    "superheroaltered_df = superheroaltered_df.drop('Weight+2')"
   ]
  },
  {
   "cell_type": "code",
   "execution_count": 46,
   "id": "07219889",
   "metadata": {},
   "outputs": [
    {
     "data": {
      "text/plain": [
       "DataFrame[_c0: string, new_name: string, Gender: string, Eye color: string, Race: string, Hair color: string, Height: string, Publisher: string, Skin color: string, Alignment: string, Weight: string]"
      ]
     },
     "execution_count": 46,
     "metadata": {},
     "output_type": "execute_result"
    }
   ],
   "source": [
    "superheroaltered_df.withColumnRenamed('name', 'new_name')"
   ]
  },
  {
   "cell_type": "code",
   "execution_count": 27,
   "id": "85be5b03",
   "metadata": {},
   "outputs": [],
   "source": [
    "df_salary=spark.read.csv('salary_dataset.csv',header=True, inferSchema=True, nullValue=\"NA\" )"
   ]
  },
  {
   "cell_type": "code",
   "execution_count": 28,
   "id": "1cbca0d0",
   "metadata": {},
   "outputs": [
    {
     "data": {
      "text/plain": [
       "DataFrame[name: string, year of experience: double, salary: int, dept: string]"
      ]
     },
     "execution_count": 28,
     "metadata": {},
     "output_type": "execute_result"
    }
   ],
   "source": [
    "df_salary"
   ]
  },
  {
   "cell_type": "code",
   "execution_count": 67,
   "id": "3fa1eb23",
   "metadata": {},
   "outputs": [
    {
     "name": "stdout",
     "output_type": "stream",
     "text": [
      "+---------+------------------+-------+\n",
      "|     name|year of experience| salary|\n",
      "+---------+------------------+-------+\n",
      "|    aabid|               1.1|  39343|\n",
      "|   aabida|               1.3|  46205|\n",
      "|   aachal|               1.5|  37731|\n",
      "|   aadesh|                 2|  43525|\n",
      "|    aadil|               2.2|  39891|\n",
      "|   aadish|               2.9|  56642|\n",
      "|  aaditya|                 3|  60150|\n",
      "|   aaenab|               3.2|  54445|\n",
      "|  aafreen|               3.2|  64445|\n",
      "|   aafrin|               3.7|  57189|\n",
      "|  aaftaab|               3.9|  63218|\n",
      "|   aaftab|                 4|  55794|\n",
      "|   aagand|                 4|  56957|\n",
      "|    aahim|               4.1|  57081|\n",
      "|    aajad|               4.5|  61111|\n",
      "|    aajiv|               4.9|  67938|\n",
      "|aakanksha|               5.1|  66029|\n",
      "|  missing|               5.3|  83088|\n",
      "|    aakas|               5.9|  81363|\n",
      "|   aakash|                 6|  93940|\n",
      "|    aakib|               6.8|missing|\n",
      "|    aalam|               7.1|  98273|\n",
      "|   aalina|               7.9| 101302|\n",
      "|   aaliya|               8.2| 113812|\n",
      "|    aamil|               8.7| 109431|\n",
      "|    aamin|           missing| 105582|\n",
      "|  missing|           missing| 116969|\n",
      "|    aamir|               9.6| 112635|\n",
      "|    aamod|           missing|missing|\n",
      "|  missing|              10.5| 121872|\n",
      "+---------+------------------+-------+\n",
      "\n"
     ]
    }
   ],
   "source": [
    "df_salary.na.fill('missing').show(30)"
   ]
  },
  {
   "cell_type": "code",
   "execution_count": 23,
   "id": "308b1abe",
   "metadata": {},
   "outputs": [
    {
     "name": "stdout",
     "output_type": "stream",
     "text": [
      "+-------+-----+------------------+------------------+--------+\n",
      "|summary| name|year of experience|            salary|    dept|\n",
      "+-------+-----+------------------+------------------+--------+\n",
      "|  count|   27|                27|                28|      30|\n",
      "|   mean| null| 4.837037037037037| 73784.32142857143|    null|\n",
      "| stddev| null|2.5678707354460255|26706.713065158525|    null|\n",
      "|    min|aabid|               1.1|            101302|Accounts|\n",
      "|    max|aamod|               9.6|             98273| Manager|\n",
      "+-------+-----+------------------+------------------+--------+\n",
      "\n"
     ]
    }
   ],
   "source": [
    "df_salary.describe().show()"
   ]
  },
  {
   "cell_type": "code",
   "execution_count": 74,
   "id": "d08d4568",
   "metadata": {},
   "outputs": [
    {
     "name": "stdout",
     "output_type": "stream",
     "text": [
      "+------+------+\n",
      "|  name|salary|\n",
      "+------+------+\n",
      "| aabid| 39343|\n",
      "|aabida| 46205|\n",
      "|aachal| 37731|\n",
      "|aadesh| 43525|\n",
      "| aadil| 39891|\n",
      "+------+------+\n",
      "\n"
     ]
    }
   ],
   "source": [
    "df_salary.filter(\"salary<=50000\").select('name','salary').show(30)"
   ]
  },
  {
   "cell_type": "code",
   "execution_count": 76,
   "id": "e73d9522",
   "metadata": {},
   "outputs": [
    {
     "name": "stdout",
     "output_type": "stream",
     "text": [
      "+------+------+\n",
      "|  name|salary|\n",
      "+------+------+\n",
      "| aabid| 39343|\n",
      "|aabida| 46205|\n",
      "|aachal| 37731|\n",
      "|aadesh| 43525|\n",
      "| aadil| 39891|\n",
      "|  null|121872|\n",
      "+------+------+\n",
      "\n"
     ]
    }
   ],
   "source": [
    "df_salary.filter((df_salary[\"salary\"]<=50000) | \n",
    "                 (df_salary[\"salary\"]>=120000))\\\n",
    ".select('name','salary').show(30)"
   ]
  },
  {
   "cell_type": "code",
   "execution_count": 36,
   "id": "5b33ff20",
   "metadata": {},
   "outputs": [
    {
     "name": "stdout",
     "output_type": "stream",
     "text": [
      "+--------+-----------+\n",
      "|    dept|max(salary)|\n",
      "+--------+-----------+\n",
      "|      HR|      98273|\n",
      "|   Admin|     116969|\n",
      "|Accounts|      67938|\n",
      "|      IT|      60150|\n",
      "| Manager|     121872|\n",
      "+--------+-----------+\n",
      "\n"
     ]
    }
   ],
   "source": [
    "df_salary.groupBy('dept').max(\"salary\").show()"
   ]
  },
  {
   "cell_type": "code",
   "execution_count": null,
   "id": "640d3f4a",
   "metadata": {},
   "outputs": [],
   "source": []
  }
 ],
 "metadata": {
  "kernelspec": {
   "display_name": "Python 3",
   "language": "python",
   "name": "python3"
  },
  "language_info": {
   "codemirror_mode": {
    "name": "ipython",
    "version": 3
   },
   "file_extension": ".py",
   "mimetype": "text/x-python",
   "name": "python",
   "nbconvert_exporter": "python",
   "pygments_lexer": "ipython3",
   "version": "3.8.8"
  }
 },
 "nbformat": 4,
 "nbformat_minor": 5
}
